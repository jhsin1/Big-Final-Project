{
 "cells": [
  {
   "cell_type": "markdown",
   "metadata": {},
   "source": [
    "# Formula for Calculating the Best Neighborhood in Pittsburgh"
   ]
  },
  {
   "cell_type": "markdown",
   "metadata": {},
   "source": [
    "To find the best neighborhood in Pittsburgh for old people, we used the three metrics of **safety**, **medical care**, and **recreational parks**. First, we ranked the neighborhoods by most safe, most amount of medical facilites, and most parks. Then using these rankings, we attached a weight to each ranking. This was because every neighborhood had atleast one park, and we felt that because of this, more emphasis should be placed on the safety and medical facility rankings. Using these weights, we were able to find out the best neighborhood, which is West End. "
   ]
  },
  {
   "cell_type": "code",
   "execution_count": 39,
   "metadata": {},
   "outputs": [],
   "source": [
    "new_safety = {'Chartiers City': 92, 'Mt. Oliver Boro': 91, 'West End': 90, 'Arlington Heights': 89, 'Outside State': 88, \n",
    "              'Windgap': 87, 'Ridgemont': 86, 'Esplen': 85, 'Outside City': 84, 'Upper Lawrenceville': 83, 'Mount Oliver': 82,\n",
    "              'St. Clair': 81, 'Oakwood': 80, 'Swisshelm Park': 79, 'Duquesne Heights': 78, 'Polish Hill': 77, 'Friendship': 76, \n",
    "              'Spring Garden': 75, 'Glen Hazel': 74, 'New Homestead': 73, 'Perry North': 72, 'Allegheny West': 71, \n",
    "              'Fineview': 70, 'Summer Hill': 69, 'Outside County': 68, 'Bon Air': 67, 'South Shore': 66, 'Hays': 65,\n",
    "              'Homewood West': 64, 'Stanton Heights': 63, 'Fairywood': 62, 'Morningside': 61, 'Lower Lawrenceville': 60,\n",
    "              'Point Breeze North': 59, 'Overbrook': 58, 'Terrace Village': 57, 'Banksville': 56, 'Arlington': 55, \n",
    "              'Allegheny Center': 54, 'Beltzhoover': 53, 'South Oakland': 52, 'Westwood': 51, 'Spring Hill-City View': 50,\n",
    "              'Bedford Dwellings': 49, 'Highland Park': 48, 'Larimer': 47, 'Crafton Heights': 46, 'West Oakland': 45,\n",
    "              'Upper Hill': 44, 'Manchester': 43, 'East Hills': 42, 'California-Kirkbride': 41, 'Point Breeze': 40, \n",
    "              'Beechview': 39, 'Greenfield': 38, 'North Shore': 37, 'Garfield': 36, 'Central Oakland': 35, \n",
    "              'Marshall-Shadeland': 34, 'Bloomfield': 33, 'Homewood South': 32, 'Northview Heights': 31, 'East Allegheny': 30,\n",
    "              'Middle Hill': 29, 'South Side Slopes': 28, 'Lincoln-Lemington-Belmar': 27, 'Lincoln Place': 26, \n",
    "              'Central Lawrenceville': 25, 'Central North Side': 24, 'Crawford-Roberts': 23, 'Strip District': 22, \n",
    "              'Mount Washington': 21, 'Elliott': 20, 'Allentown': 19, 'Brighton Heights': 18, 'Squirrel Hill North': 17,\n",
    "              'Hazelwood': 16, 'Sheraden': 15, 'Knoxville': 14, 'Homewood North': 13, 'Troy Hill': 12, 'Perry South': 11,\n",
    "              'North Oakland': 10, 'Bluff': 9, 'Shadyside': 8, 'East Liberty': 7, 'Brookline': 6, 'Squirrel Hill South': 5,\n",
    "              'Carrick': 4, 'Chateau': 3,' South Side Flats': 2, 'Central Business District': 1}\n",
    "\n",
    "new_medical= {'Allegheny Center': 4, 'Central Lawrenceville': 7, 'Lincoln-Lemington-Belmar': 11, 'North Oakland': 12, \n",
    "              'South Shore': 2, 'South Side Flats': 14, 'Brookline': 4, 'Central Business District': 11, 'Garfield': 5, \n",
    "              'Chateau': 1, 'Central Northside': 4, 'Bluff': 5, 'Squirrel Hill North': 5, 'Mount Washington': 4, \n",
    "              'Troy Hill': 1, 'Carrick': 2, 'Morningside': 1, 'Crawford-Roberts': 3, 'Squirrel Hill South': 7, \n",
    "              'West Oakland': 16, 'Central Oakland': 15, 'East Liberty': 6, 'Banksville': 3, 'South Oakland': 4, \n",
    "              'Beltzhoover': 3, 'Point Breeze North': 1, 'Terrace Village': 1, 'Lower Lawrenceville': 1, 'Greenfield': 4, \n",
    "              'Bloomfield': 15, 'West End': 1, 'Brighton Heights': 2, 'Hazelwood': 1, 'Shadyside': 12, 'Northview Heights': 1, \n",
    "              'Lincoln Place': 1, 'Homewood West': 1, 'Point Breeze': 1, 'Homewood South': 1, 'East Allegheny': 1, \n",
    "              'Allegheny West': 1, 'Glen Hazel': 1, 'Strip District': 2}\n",
    "\n",
    "new_parks = {'Beechview': 6, 'Crawford-Roberts': 3, 'North Shore': 3, 'Allegheny Center': 2, 'Central Business District': 3,\n",
    "             'Central Northside': 2, 'Bedford Dwellings': 1, 'South Side Slopes': 6, 'South Side Flats': 3, \n",
    "             'Lower Lawrenceville': 3, 'Banksville': 2, 'Homewood North': 1, 'Hazelwood': 5, 'Bon Air': 1, \n",
    "             'Central Oakland': 2, 'Brighton Heights': 3, 'Brookline': 2, 'Spring Garden': 2, 'Lincoln-Lemington-Belmar': 2, \n",
    "             'Windgap': 1, 'Troy Hill': 5, 'Westwood': 2, 'Perry South': 2, 'Homewood West': 1, 'Squirrel Hill South': 3, \n",
    "             'Strip District': 2, 'Arlington': 1, 'Stanton Heights': 1, 'Crafton Heights': 2, 'Upper Lawrenceville': 3, \n",
    "             'East Carnegie': 1, 'East Hills': 1, 'East Liberty': 4, 'Allentown': 2, 'Duquesne Heights': 1, \n",
    "             'Mount Washington': 5, 'Esplen': 1, 'Fairywood': 1, 'Fineview': 2, 'Garfield': 3, 'Greenfield': 2, \n",
    "             'South Oakland': 3, 'Bloomfield': 3, 'Perry North': 2, 'Hays': 1, 'Elliott': 4, 'Highland Park': 2, \n",
    "             'Homewood South': 1, 'Morningside': 1, 'Terrace Village': 2, 'Larimer': 1, 'Spring Hill-City View': 3, \n",
    "             'Carrick': 3, 'Central Lawrenceville': 1, 'Lincoln Place': 2, 'Manchester': 3, 'Marshall-Shadeland': 4, \n",
    "             'Sheraden': 4, 'Beltzhoover': 3, 'Point Breeze': 1, 'Oakwood': 1, 'Upper Hill': 1, 'New Homestead': 1, \n",
    "             'West Oakland': 1, 'Swisshelm Park': 1, 'Bluff': 1, 'Middle Hill': 1, 'West End': 1, 'Polish Hill': 1, \n",
    "             'Point Breeze North': 1, 'Squirrel Hill North': 1}"
   ]
  },
  {
   "cell_type": "code",
   "execution_count": 40,
   "metadata": {},
   "outputs": [
    {
     "name": "stdout",
     "output_type": "stream",
     "text": [
      "The best neighborhood is 'West End' with an overall score of 45.70\n"
     ]
    }
   ],
   "source": [
    "# Define weights for each category (you can adjust these as needed)\n",
    "weight_safety = 0.5\n",
    "weight_medical = 0.5\n",
    "weight_parks = 0.2\n",
    "\n",
    "# Calculate the overall score for each neighborhood\n",
    "overall_scores = {}\n",
    "\n",
    "for neighborhood in new_safety:\n",
    "    # Calculate the weighted sum of rankings\n",
    "    if neighborhood in new_medical and neighborhood in new_parks: \n",
    "        overall_score = (\n",
    "            (new_safety[neighborhood] * weight_safety) +\n",
    "            (new_medical[neighborhood] * weight_medical) +\n",
    "            (new_parks[neighborhood] * weight_parks)\n",
    "        )\n",
    "        overall_scores[neighborhood] = overall_score\n",
    "\n",
    "# Find the neighborhood with the highest overall score\n",
    "best_neighborhood = max(overall_scores, key=overall_scores.get)\n",
    "best_score = overall_scores[best_neighborhood]\n",
    "\n",
    "print(f\"The best neighborhood is '{best_neighborhood}' with an overall score of {best_score:.2f}\")"
   ]
  },
  {
   "cell_type": "code",
   "execution_count": null,
   "metadata": {},
   "outputs": [],
   "source": []
  }
 ],
 "metadata": {
  "kernelspec": {
   "display_name": "Python 3",
   "language": "python",
   "name": "python3"
  },
  "language_info": {
   "codemirror_mode": {
    "name": "ipython",
    "version": 3
   },
   "file_extension": ".py",
   "mimetype": "text/x-python",
   "name": "python",
   "nbconvert_exporter": "python",
   "pygments_lexer": "ipython3",
   "version": "3.8.3"
  }
 },
 "nbformat": 4,
 "nbformat_minor": 4
}
