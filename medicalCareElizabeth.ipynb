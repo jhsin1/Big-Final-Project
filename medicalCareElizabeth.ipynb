{
 "cells": [
  {
   "cell_type": "markdown",
   "metadata": {},
   "source": [
    "# Neighborhoods with the Most Medical Facilities"
   ]
  },
  {
   "cell_type": "markdown",
   "metadata": {},
   "source": [
    "Now we want to look at the neighborhoods that have the most medical facilities. Our ideal neighborhood will have at least 1 medical facility."
   ]
  },
  {
   "cell_type": "code",
   "execution_count": null,
   "metadata": {},
   "outputs": [],
   "source": [
    "import pandas as pd\n",
    "import fpsnippets\n",
    "import matplotlib.pyplot as plt"
   ]
  },
  {
   "cell_type": "code",
   "execution_count": 12,
   "metadata": {},
   "outputs": [
    {
     "data": {
      "text/html": [
       "<div>\n",
       "<style scoped>\n",
       "    .dataframe tbody tr th:only-of-type {\n",
       "        vertical-align: middle;\n",
       "    }\n",
       "\n",
       "    .dataframe tbody tr th {\n",
       "        vertical-align: top;\n",
       "    }\n",
       "\n",
       "    .dataframe thead th {\n",
       "        text-align: right;\n",
       "    }\n",
       "</style>\n",
       "<table border=\"1\" class=\"dataframe\">\n",
       "  <thead>\n",
       "    <tr style=\"text-align: right;\">\n",
       "      <th></th>\n",
       "      <th>GROUP_NAME</th>\n",
       "      <th>PRACTICE_ADDR_1</th>\n",
       "      <th>PRACTICE_ADDR_2</th>\n",
       "      <th>PRACTICE_CITY</th>\n",
       "      <th>PRACTICE_STATE</th>\n",
       "      <th>PRACTICE_ZIP</th>\n",
       "      <th>Latitude</th>\n",
       "      <th>Longitude</th>\n",
       "    </tr>\n",
       "    <tr>\n",
       "      <th>_id</th>\n",
       "      <th></th>\n",
       "      <th></th>\n",
       "      <th></th>\n",
       "      <th></th>\n",
       "      <th></th>\n",
       "      <th></th>\n",
       "      <th></th>\n",
       "      <th></th>\n",
       "    </tr>\n",
       "  </thead>\n",
       "  <tbody>\n",
       "    <tr>\n",
       "      <th>1</th>\n",
       "      <td>Picciotti, Isabella M MD</td>\n",
       "      <td>1 Allegheny Square</td>\n",
       "      <td>NaN</td>\n",
       "      <td>Pittsburgh</td>\n",
       "      <td>PA</td>\n",
       "      <td>15212</td>\n",
       "      <td>40.451948</td>\n",
       "      <td>-80.004895</td>\n",
       "    </tr>\n",
       "    <tr>\n",
       "      <th>2</th>\n",
       "      <td>UPMC Emergency Medicine Inc</td>\n",
       "      <td>1 Childrens Hospital Drive</td>\n",
       "      <td>4401 Penn Avenue</td>\n",
       "      <td>Pittsburgh</td>\n",
       "      <td>PA</td>\n",
       "      <td>15224</td>\n",
       "      <td>40.467315</td>\n",
       "      <td>-79.953590</td>\n",
       "    </tr>\n",
       "    <tr>\n",
       "      <th>3</th>\n",
       "      <td>Hoover Medical Associates PC</td>\n",
       "      <td>100 Delafield Rd</td>\n",
       "      <td>Suite 312</td>\n",
       "      <td>Pittsburgh</td>\n",
       "      <td>PA</td>\n",
       "      <td>15215</td>\n",
       "      <td>40.490244</td>\n",
       "      <td>-79.895719</td>\n",
       "    </tr>\n",
       "    <tr>\n",
       "      <th>4</th>\n",
       "      <td>Partners in Nephrology and Endocrinology</td>\n",
       "      <td>100 Delafield Road</td>\n",
       "      <td>100 MAB Suite 212</td>\n",
       "      <td>Pittsburgh</td>\n",
       "      <td>PA</td>\n",
       "      <td>15215</td>\n",
       "      <td>40.506845</td>\n",
       "      <td>-79.908076</td>\n",
       "    </tr>\n",
       "    <tr>\n",
       "      <th>5</th>\n",
       "      <td>Bahl and Bahl Med Assoc</td>\n",
       "      <td>100 Delafield Road, Ste 103</td>\n",
       "      <td>NaN</td>\n",
       "      <td>Pittsburgh</td>\n",
       "      <td>PA</td>\n",
       "      <td>15215</td>\n",
       "      <td>40.490244</td>\n",
       "      <td>-79.895719</td>\n",
       "    </tr>\n",
       "    <tr>\n",
       "      <th>...</th>\n",
       "      <td>...</td>\n",
       "      <td>...</td>\n",
       "      <td>...</td>\n",
       "      <td>...</td>\n",
       "      <td>...</td>\n",
       "      <td>...</td>\n",
       "      <td>...</td>\n",
       "      <td>...</td>\n",
       "    </tr>\n",
       "    <tr>\n",
       "      <th>603</th>\n",
       "      <td>Pittsburgh VA Medical Group</td>\n",
       "      <td>University Drive 111 C-U</td>\n",
       "      <td>NaN</td>\n",
       "      <td>Pittsburgh</td>\n",
       "      <td>PA</td>\n",
       "      <td>15240</td>\n",
       "      <td>40.488899</td>\n",
       "      <td>-79.890069</td>\n",
       "    </tr>\n",
       "    <tr>\n",
       "      <th>604</th>\n",
       "      <td>Pittsburgh VA Medical Group</td>\n",
       "      <td>University Drive C</td>\n",
       "      <td>NaN</td>\n",
       "      <td>Pittsburgh</td>\n",
       "      <td>PA</td>\n",
       "      <td>15240</td>\n",
       "      <td>40.445036</td>\n",
       "      <td>-79.958921</td>\n",
       "    </tr>\n",
       "    <tr>\n",
       "      <th>605</th>\n",
       "      <td>Pittsburgh VA Medical Group</td>\n",
       "      <td>University Drive C-124E-U</td>\n",
       "      <td>NaN</td>\n",
       "      <td>Pittsburgh</td>\n",
       "      <td>PA</td>\n",
       "      <td>15213</td>\n",
       "      <td>40.437926</td>\n",
       "      <td>-79.955642</td>\n",
       "    </tr>\n",
       "    <tr>\n",
       "      <th>606</th>\n",
       "      <td>HVMG The Heart and Vascular Center Leetsdale</td>\n",
       "      <td>Wexford Bayne Rd</td>\n",
       "      <td>Suite 206</td>\n",
       "      <td>Sewickley</td>\n",
       "      <td>PA</td>\n",
       "      <td>15143</td>\n",
       "      <td>40.536485</td>\n",
       "      <td>-80.184424</td>\n",
       "    </tr>\n",
       "    <tr>\n",
       "      <th>607</th>\n",
       "      <td>Adler and Krause Card Med Assoc</td>\n",
       "      <td>Yost at Ardmore Boulevard</td>\n",
       "      <td>Suite 217</td>\n",
       "      <td>Pittsburgh</td>\n",
       "      <td>PA</td>\n",
       "      <td>15221</td>\n",
       "      <td>40.436883</td>\n",
       "      <td>-79.857683</td>\n",
       "    </tr>\n",
       "  </tbody>\n",
       "</table>\n",
       "<p>607 rows × 8 columns</p>\n",
       "</div>"
      ],
      "text/plain": [
       "                                       GROUP_NAME  \\\n",
       "_id                                                 \n",
       "1                        Picciotti, Isabella M MD   \n",
       "2                     UPMC Emergency Medicine Inc   \n",
       "3                    Hoover Medical Associates PC   \n",
       "4        Partners in Nephrology and Endocrinology   \n",
       "5                         Bahl and Bahl Med Assoc   \n",
       "..                                            ...   \n",
       "603                   Pittsburgh VA Medical Group   \n",
       "604                   Pittsburgh VA Medical Group   \n",
       "605                   Pittsburgh VA Medical Group   \n",
       "606  HVMG The Heart and Vascular Center Leetsdale   \n",
       "607               Adler and Krause Card Med Assoc   \n",
       "\n",
       "                 PRACTICE_ADDR_1    PRACTICE_ADDR_2 PRACTICE_CITY  \\\n",
       "_id                                                                 \n",
       "1             1 Allegheny Square                NaN    Pittsburgh   \n",
       "2     1 Childrens Hospital Drive   4401 Penn Avenue    Pittsburgh   \n",
       "3               100 Delafield Rd          Suite 312    Pittsburgh   \n",
       "4             100 Delafield Road  100 MAB Suite 212    Pittsburgh   \n",
       "5    100 Delafield Road, Ste 103                NaN    Pittsburgh   \n",
       "..                           ...                ...           ...   \n",
       "603     University Drive 111 C-U                NaN    Pittsburgh   \n",
       "604           University Drive C                NaN    Pittsburgh   \n",
       "605    University Drive C-124E-U                NaN    Pittsburgh   \n",
       "606             Wexford Bayne Rd          Suite 206     Sewickley   \n",
       "607    Yost at Ardmore Boulevard          Suite 217    Pittsburgh   \n",
       "\n",
       "    PRACTICE_STATE  PRACTICE_ZIP   Latitude  Longitude  \n",
       "_id                                                     \n",
       "1               PA         15212  40.451948 -80.004895  \n",
       "2               PA         15224  40.467315 -79.953590  \n",
       "3               PA         15215  40.490244 -79.895719  \n",
       "4               PA         15215  40.506845 -79.908076  \n",
       "5               PA         15215  40.490244 -79.895719  \n",
       "..             ...           ...        ...        ...  \n",
       "603             PA         15240  40.488899 -79.890069  \n",
       "604             PA         15240  40.445036 -79.958921  \n",
       "605             PA         15213  40.437926 -79.955642  \n",
       "606             PA         15143  40.536485 -80.184424  \n",
       "607             PA         15221  40.436883 -79.857683  \n",
       "\n",
       "[607 rows x 8 columns]"
      ]
     },
     "execution_count": 12,
     "metadata": {},
     "output_type": "execute_result"
    }
   ],
   "source": [
    "# read in dataset\n",
    "data = pd.read_csv(\"medicalCare.csv\", index_col = \"_id\")\n",
    "data"
   ]
  },
  {
   "cell_type": "code",
   "execution_count": 17,
   "metadata": {},
   "outputs": [
    {
     "data": {
      "text/plain": [
       "<BarContainer object of 43 artists>"
      ]
     },
     "execution_count": 17,
     "metadata": {},
     "output_type": "execute_result"
    },
    {
     "data": {
      "image/png": "[encoded data removed]",
      "text/plain": [
       "<Figure size 432x288 with 1 Axes>"
      ]
     },
     "metadata": {
      "needs_background": "light"
     },
     "output_type": "display_data"
    }
   ],
   "source": [
    "# takes each row of latitudes and appends into lat array\n",
    "lat = []\n",
    "for index, row in data.iterrows():\n",
    "    latit= row['Latitude']\n",
    "    lat.append(latit)\n",
    "\n",
    "# takes each row of longitudes and appends into long array\n",
    "long = []\n",
    "for index, row in data.iterrows():\n",
    "    longit = row['Longitude']\n",
    "    long.append(longit)\n",
    "\n",
    "# takes each elements from lat and long array and uses fpsnippets latitude and longitude method to append each neighborhood into neighborhood array\n",
    "count = 0\n",
    "neighborhood = []\n",
    "while (count < 607):\n",
    "    neighborhood.append(fpsnippets.geo_to_neighborhood(lat[count], long[count]))\n",
    "    count = count + 1\n",
    "\n",
    "# if fpsnippets produced None/is not a string, append into updated array of neighborhoods\n",
    "updatedNbh = list()\n",
    "for x in neighborhood:\n",
    "    if type(x) == str:\n",
    "        updatedNbh.append(x)\n",
    "\n",
    "nbhDic = dict()\n",
    "\n",
    "# for each neighborhood in list, add 1 if there is a repeat neighborhood\n",
    "for y in updatedNbh:\n",
    "    if not y in nbhDic:\n",
    "        nbhDic.update({y : 1})\n",
    "    else: \n",
    "        nbhDic[y] = nbhDic.get(y) + 1\n",
    "\n",
    "# plots data into bar graph\n",
    "plt.bar(nbhDic.keys(), nbhDic.values())"
   ]
  },
  {
   "cell_type": "code",
   "execution_count": 20,
   "metadata": {},
   "outputs": [
    {
     "name": "stdout",
     "output_type": "stream",
     "text": [
      "{'West Oakland': 16, 'Central Oakland': 15, 'Bloomfield': 15, 'South Side Flats': 14, 'North Oakland': 12, 'Shadyside': 12, 'Lincoln-Lemington-Belmar': 11, 'Central Business District': 11, 'Central Lawrenceville': 7, 'Squirrel Hill South': 7, 'East Liberty': 6, 'Garfield': 5, 'Bluff': 5, 'Squirrel Hill North': 5, 'Allegheny Center': 4, 'Brookline': 4, 'Central Northside': 4, 'Mount Washington': 4, 'South Oakland': 4, 'Greenfield': 4}\n"
     ]
    },
    {
     "data": {
      "text/plain": [
       "([0, 1, 2, 3, 4, 5, 6, 7, 8, 9, 10, 11, 12, 13, 14, 15, 16, 17, 18, 19],\n",
       " <a list of 20 Text major ticklabel objects>)"
      ]
     },
     "execution_count": 20,
     "metadata": {},
     "output_type": "execute_result"
    },
    {
     "data": {
      "image/png": "[encoded data removed]",
      "text/plain": [
       "<Figure size 432x288 with 1 Axes>"
      ]
     },
     "metadata": {
      "needs_background": "light"
     },
     "output_type": "display_data"
    }
   ],
   "source": [
    "# prints top twenty neighborhoods with the most medical facilities\n",
    "N = 20\n",
    "topTwenty = dict(sorted(nbhDic.items(), key = lambda x: x[1], reverse = True)[:N])\n",
    "print(topTwenty)\n",
    "\n",
    "# plots data into bar graph\n",
    "plt.bar(topTwenty.keys(), topTwenty.values())\n",
    "\n",
    "# makes neighborhood title vertical\n",
    "plt.xticks(rotation = 90)"
   ]
  },
  {
   "cell_type": "code",
   "execution_count": 19,
   "metadata": {},
   "outputs": [
    {
     "name": "stdout",
     "output_type": "stream",
     "text": [
      "{'Chateau': 1, 'Troy Hill': 1, 'Morningside': 1, 'Point Breeze North': 1, 'Terrace Village': 1, 'Lower Lawrenceville': 1, 'West End': 1, 'Hazelwood': 1, 'Northview Heights': 1, 'Lincoln Place': 1, 'Homewood West': 1, 'Point Breeze': 1, 'Homewood South': 1, 'East Allegheny': 1, 'Allegheny West': 1, 'Glen Hazel': 1, 'South Shore': 2, 'Carrick': 2, 'Brighton Heights': 2, 'Strip District': 2}\n"
     ]
    },
    {
     "data": {
      "text/plain": [
       "([0, 1, 2, 3, 4, 5, 6, 7, 8, 9, 10, 11, 12, 13, 14, 15, 16, 17, 18, 19],\n",
       " <a list of 20 Text major ticklabel objects>)"
      ]
     },
     "execution_count": 19,
     "metadata": {},
     "output_type": "execute_result"
    },
    {
     "data": {
      "image/png": "[encoded data removed]",
      "text/plain": [
       "<Figure size 432x288 with 1 Axes>"
      ]
     },
     "metadata": {
      "needs_background": "light"
     },
     "output_type": "display_data"
    }
   ],
   "source": [
    "#South Side Flats, East Liberty, Squirrel Hill South, Garfield, Mount Washington, South Oakland\n",
    "\n",
    "# prints lowest twenty neighborhoods that have the least amount of medical facilities\n",
    "N = 20\n",
    "lowTwenty = dict(sorted(nbhDic.items(), key = lambda x: x[1])[:N])\n",
    "print(lowTwenty)\n",
    "\n",
    "# plots data into bar graph\n",
    "plt.bar(lowTwenty.keys(), lowTwenty.values())\n",
    "\n",
    "# makes neighborhood title vertical\n",
    "plt.xticks(rotation = 90)"
   ]
  },
  {
   "cell_type": "code",
   "execution_count": null,
   "metadata": {},
   "outputs": [],
   "source": []
  }
 ],
 "metadata": {
  "kernelspec": {
   "display_name": "Python 3",
   "language": "python",
   "name": "python3"
  },
  "language_info": {
   "codemirror_mode": {
    "name": "ipython",
    "version": 3
   },
   "file_extension": ".py",
   "mimetype": "text/x-python",
   "name": "python",
   "nbconvert_exporter": "python",
   "pygments_lexer": "ipython3",
   "version": "3.8.3"
  }
 },
 "nbformat": 4,
 "nbformat_minor": 4
}
