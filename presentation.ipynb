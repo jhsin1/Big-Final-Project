{
 "cells": [
  {
   "cell_type": "markdown",
   "metadata": {},
   "source": [
    "# Best Neighborhood in Pittsburgh\n",
    "\n",
    "\n",
    "#### Members: Elizabeth Lee, Jessica Hsin, Devadarsh Arangaly Vijesh"
   ]
  },
  {
   "cell_type": "markdown",
   "metadata": {},
   "source": [
    "## Introduction\n"
   ]
  },
  {
   "cell_type": "markdown",
   "metadata": {},
   "source": [
    "For our project, our goal was to find the best neighborhood for older people. Our overall metric was to analyze the best living conditions using three submetrics:\n",
    "* Safety - Police Incident Blotter\n",
    "* Medical Care Access - Amount of facilities nearby\n",
    "* Recreational \n",
    "\n",
    "… the things old people do and care about …\n",
    "\n",
    "We analyzed different data sets with these metrics and looked for the top 20 and lowest 20 neighborhoods in each metric. We then compared and found neighborhoods that overlapped to come up with our conclusion.\n"
   ]
  },
  {
   "cell_type": "markdown",
   "metadata": {},
   "source": [
    "## Metric"
   ]
  },
  {
   "cell_type": "markdown",
   "metadata": {},
   "source": [
    "#### Safety\n",
    "\n",
    "The Police Incident Blotter (sourced from WPRDC) contains all the recent crime reports with many details such as time, date, offenses… etc, but I specifically focused on location (with neighborhood names as data), crime description, and crime hierarchy (integer value). I first compared the relationship between the hierarchy value and their corresponding crime descriptions, and found out that the lower the hierarchy value, the less serious the crime is (e.g. found possessions of marijuana). Thus, I decided to utilize the hierarchy value to determine the level of safety of each neighborhood. \n",
    "\n",
    "#### Medical Care\n",
    "\n",
    "The data set on health care facilities includes the name and location of all hospitals and primary care facilities in Allegheny County from 2014. I utilized the latitude and longitude features in the data set along with the provided fpsnippets code to find the neighborhoods with the most medical care facilities nearby.\n",
    "\n",
    "#### Recreation\n",
    "\n",
    "I utilized the City of Pittsburgh Parks data set which includes different types of parks within Pittsburgh such as parks, building grounds, traffic islands, etc. Then, I filtered through the “type” feature for just parks because that was what our metric was based on. Once there was a parks dictionary that included all neighborhoods that have parks, I iterated over each row and counted which neighborhoods had the most parks."
   ]
  },
  {
   "cell_type": "markdown",
   "metadata": {},
   "source": [
    "## The Best Neighborhood"
   ]
  },
  {
   "cell_type": "markdown",
   "metadata": {},
   "source": [
    "To find the best neighborhood in Pittsburgh for old people, we used the three metrics of safety, medical care, and recreational parks. First, we ranked the neighborhoods by most safe, most medical facilities, and most parks. Then using these rankings, we attached a weight to each ranking. This was because every neighborhood had at least one park, and we felt that because of this, more emphasis should be placed on the safety and medical facility rankings. Using these weights, we were able to find out the best neighborhood, which is West End. \n",
    "\n",
    "Explanation of Weightings:\n",
    "* Parks obviously had the lowest weighting because there was a park in every neighborhood\n",
    "* Safety and medical were given 0.5 each because both are crucial to a person’s well-being and quality of life"
   ]
  },
  {
   "cell_type": "markdown",
   "metadata": {},
   "source": [
    "## Conclusion"
   ]
  },
  {
   "cell_type": "markdown",
   "metadata": {},
   "source": [
    "**Jessica**: I also am not from Pittsburgh and have never been to the West End, but based on the images of the neighborhood on Google, West End seems like a vibrant, fun yet peaceful neighborhood for old people. To me, what old people need does not necessarily need to be certain facilities, they just need an environment where they feel a sense of belonging, comfort, and community.\n",
    "\n",
    "**Elizabeth**: Although I am not from Pittsburgh and have never been to the West End, I think based on the data that we analyzed, the West End would be a good option for an old couple to live in. It is ideal in terms of safety and has at least one park and medical care facility that the old couple would have access to. However, because I am not from the area, it was difficult for me to evaluate whether our findings were accurate or not. I personally believe that safety is the most important metric for anyone, not just older people, when deciding what neighborhood to live in so I think that it was a good metric to use. The other metrics I think are important, but not as important as safety. \n",
    "\n",
    "**Devadarsh**: I too am not from Pittsburgh and have never been to the West End either, but through our data analysis, I think that the West End would be a great place for old people to live. It was one of the safest neighborhoods that we looked at, and even though it only had one medical facility and one park, I believe that is enough for the residents. The neighborhood also looks to be a lively, thriving place and it seems to me that the residents thoroughly enjoy living there. Because of this, I can conclude that the West End would be a great place for old people to live. \n"
   ]
  }
 ],
 "metadata": {
  "kernelspec": {
   "display_name": "Python 3",
   "language": "python",
   "name": "python3"
  },
  "language_info": {
   "codemirror_mode": {
    "name": "ipython",
    "version": 3
   },
   "file_extension": ".py",
   "mimetype": "text/x-python",
   "name": "python",
   "nbconvert_exporter": "python",
   "pygments_lexer": "ipython3",
   "version": "3.8.3"
  }
 },
 "nbformat": 4,
 "nbformat_minor": 4
}
